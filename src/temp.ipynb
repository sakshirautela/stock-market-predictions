{
 "cells": [
  {
   "metadata": {},
   "cell_type": "code",
   "outputs": [],
   "execution_count": null,
   "source": "",
   "id": "3f96ab869ddcbfff"
  }
 ],
 "metadata": {},
 "nbformat": 4,
 "nbformat_minor": 5
}
